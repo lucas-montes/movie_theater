{
 "cells": [
  {
   "cell_type": "code",
   "execution_count": 37,
   "metadata": {},
   "outputs": [],
   "source": [
    "import polars as pl"
   ]
  },
  {
   "cell_type": "code",
   "execution_count": 38,
   "metadata": {},
   "outputs": [],
   "source": [
    "rows = pl.read_parquet(\"movies-first.parquet\", columns=(\n",
    "    \"title\",\n",
    "    \"description\",\n",
    "    \"url\",\n",
    "    \"genres\",\n",
    "    \"actors\",\n",
    "    \"release_date\",\n",
    "    \"image\"\n",
    ")).with_columns(pl.when(pl.col(pl.Utf8).str.len_bytes() ==0)\n",
    "    .then(None)\n",
    "    .otherwise(pl.col(pl.Utf8))\n",
    "    .name.keep()\n",
    ").with_columns(pl.col(\"release_date\").str.to_integer().fill_null(2030))"
   ]
  },
  {
   "cell_type": "code",
   "execution_count": 39,
   "metadata": {},
   "outputs": [
    {
     "data": {
      "text/html": [
       "<div><style>\n",
       ".dataframe > thead > tr,\n",
       ".dataframe > tbody > tr {\n",
       "  text-align: right;\n",
       "  white-space: pre-wrap;\n",
       "}\n",
       "</style>\n",
       "<small>shape: (16, 7)</small><table border=\"1\" class=\"dataframe\"><thead><tr><th>title</th><th>description</th><th>url</th><th>genres</th><th>actors</th><th>release_date</th><th>image</th></tr><tr><td>str</td><td>str</td><td>str</td><td>list[str]</td><td>list[str]</td><td>i64</td><td>str</td></tr></thead><tbody><tr><td>&quot;Los reyes del mundo&quot;</td><td>&quot;Le jeune Rá vit avec ses amis …</td><td>&quot;https://filmoflix.to/film/aven…</td><td>[&quot;Aventure&quot;, &quot;Drame&quot;]</td><td>[&quot;Carlos Andrés Castañeda&quot;, &quot;Brahian Estiven Acevedo&quot;, &quot;Davison Florez&quot;]</td><td>2023</td><td>&quot;https://image.tmdb.org/t/p/w30…</td></tr><tr><td>&quot;El correo&quot;</td><td>&quot;2002, l&#x27;Espagne adopte la nouv…</td><td>&quot;https://filmoflix.to/film/come…</td><td>[&quot;Comédie&quot;, &quot;Policier&quot;, &quot;Thriller&quot;]</td><td>[&quot;Arón Piper&quot;, &quot;María Pedraza&quot;, &quot;Luis Tosar&quot;]</td><td>2024</td><td>&quot;https://image.tmdb.org/t/p/w30…</td></tr><tr><td>&quot;Challengers&quot;</td><td>&quot;Tashi Duncan, une ancienne pro…</td><td>&quot;https://filmoflix.to/film/dram…</td><td>[&quot;Drame&quot;, &quot;Romance&quot;]</td><td>[&quot;Zendaya&quot;, &quot;Mike Faist&quot;, &quot;Josh O\\&#x27;Connor&quot;]</td><td>2024</td><td>&quot;https://image.tmdb.org/t/p/w30…</td></tr><tr><td>&quot;Nicky Larson - City Hunter: An…</td><td>&quot;Nicky Larson et Laura sont mis…</td><td>&quot;https://filmoflix.to/film/acti…</td><td>[&quot;Action&quot;, &quot;Animation&quot;, … &quot;Policier&quot;]</td><td>[&quot;Akira Kamiya&quot;, &quot;Kazue Ikura&quot;, &quot;Yôko Asagami&quot;]</td><td>2024</td><td>&quot;https://image.tmdb.org/t/p/w30…</td></tr><tr><td>&quot;Le Grand magasin&quot;</td><td>&quot;Akino est l&#x27;apprentie concierg…</td><td>&quot;https://filmoflix.to/film/anim…</td><td>[&quot;Animation&quot;, &quot;Aventure&quot;, &quot;Famille&quot;]</td><td>[&quot;Kawaida Natsumi&quot;, &quot;Takeo Otsuka&quot;, &quot;Nobuo Tobita&quot;]</td><td>2023</td><td>&quot;/uploads/posts/covers/b3501361…</td></tr><tr><td>&hellip;</td><td>&hellip;</td><td>&hellip;</td><td>&hellip;</td><td>&hellip;</td><td>&hellip;</td><td>&hellip;</td></tr><tr><td>&quot;Shehzada&quot;</td><td>&quot;Depuis son enfance, Bantu est …</td><td>&quot;https://filmoflix.to/film/acti…</td><td>[&quot;Action&quot;, &quot;Comédie&quot;, … &quot;Romance&quot;]</td><td>[&quot;Kartik Aaryan&quot;, &quot;Kriti Sanon&quot;, &quot;Paresh Rawal&quot;]</td><td>2023</td><td>&quot;https://image.tmdb.org/t/p/w30…</td></tr><tr><td>&quot;Avec les léopards&quot;</td><td>&quot;Dans ce documentaire sur la na…</td><td>&quot;https://filmoflix.to/film/docu…</td><td>[&quot;Documentaire&quot;]</td><td>[&quot;Brad Bestelink&quot;, &quot;Alex Parkinson&quot;]</td><td>2024</td><td>&quot;https://image.tmdb.org/t/p/w30…</td></tr><tr><td>&quot;Ammu&quot;</td><td>&quot;Ce qui commence comme un maria…</td><td>&quot;https://filmoflix.to/film/dram…</td><td>[&quot;Drame&quot;]</td><td>[&quot;Aishwarya Lekshmi&quot;, &quot;Naveen Chandra&quot;, &quot;Maala Parvathi&quot;]</td><td>2022</td><td>&quot;https://image.tmdb.org/t/p/w30…</td></tr><tr><td>&quot;The Gifted Hands&quot;</td><td>&quot;Une petite fille est kidnappée…</td><td>&quot;https://filmoflix.to/film/fant…</td><td>[&quot;Fantastique&quot;, &quot;Thriller&quot;]</td><td>[&quot;Young-jong Lee&quot;, &quot;Jun-hee Han&quot;, &quot;Ho-Young Kwon&quot;]</td><td>2013</td><td>&quot;https://image.tmdb.org/t/p/w30…</td></tr><tr><td>&quot;The Last Stop in Yuma County&quot;</td><td>&quot;La clientèle d&#x27;un diner d&#x27;Ariz…</td><td>&quot;https://filmoflix.to/film/poli…</td><td>[&quot;Policier&quot;, &quot;Thriller&quot;]</td><td>[&quot;Jim Cummings (II)&quot;, &quot;Jocelin Donahue&quot;, &quot;Richard Brake&quot;]</td><td>2023</td><td>&quot;https://image.tmdb.org/t/p/w30…</td></tr></tbody></table></div>"
      ],
      "text/plain": [
       "shape: (16, 7)\n",
       "┌──────────────┬─────────────┬─────────────┬─────────────┬─────────────┬─────────────┬─────────────┐\n",
       "│ title        ┆ description ┆ url         ┆ genres      ┆ actors      ┆ release_dat ┆ image       │\n",
       "│ ---          ┆ ---         ┆ ---         ┆ ---         ┆ ---         ┆ e           ┆ ---         │\n",
       "│ str          ┆ str         ┆ str         ┆ list[str]   ┆ list[str]   ┆ ---         ┆ str         │\n",
       "│              ┆             ┆             ┆             ┆             ┆ i64         ┆             │\n",
       "╞══════════════╪═════════════╪═════════════╪═════════════╪═════════════╪═════════════╪═════════════╡\n",
       "│ Los reyes    ┆ Le jeune Rá ┆ https://fil ┆ [\"Aventure\" ┆ [\"Carlos    ┆ 2023        ┆ https://ima │\n",
       "│ del mundo    ┆ vit avec    ┆ moflix.to/f ┆ , \"Drame\"]  ┆ Andrés      ┆             ┆ ge.tmdb.org │\n",
       "│              ┆ ses amis …  ┆ ilm/aven…   ┆             ┆ Castañeda\", ┆             ┆ /t/p/w30…   │\n",
       "│              ┆             ┆             ┆             ┆ \"B…         ┆             ┆             │\n",
       "│ El correo    ┆ 2002,       ┆ https://fil ┆ [\"Comédie\", ┆ [\"Arón      ┆ 2024        ┆ https://ima │\n",
       "│              ┆ l'Espagne   ┆ moflix.to/f ┆ \"Policier\", ┆ Piper\",     ┆             ┆ ge.tmdb.org │\n",
       "│              ┆ adopte la   ┆ ilm/come…   ┆ \"Thril…     ┆ \"María      ┆             ┆ /t/p/w30…   │\n",
       "│              ┆ nouv…       ┆             ┆             ┆ Pedraza\"…   ┆             ┆             │\n",
       "│ Challengers  ┆ Tashi       ┆ https://fil ┆ [\"Drame\",   ┆ [\"Zendaya\", ┆ 2024        ┆ https://ima │\n",
       "│              ┆ Duncan, une ┆ moflix.to/f ┆ \"Romance\"]  ┆ \"Mike       ┆             ┆ ge.tmdb.org │\n",
       "│              ┆ ancienne    ┆ ilm/dram…   ┆             ┆ Faist\",     ┆             ┆ /t/p/w30…   │\n",
       "│              ┆ pro…        ┆             ┆             ┆ \"Jos…       ┆             ┆             │\n",
       "│ Nicky Larson ┆ Nicky       ┆ https://fil ┆ [\"Action\",  ┆ [\"Akira     ┆ 2024        ┆ https://ima │\n",
       "│ - City       ┆ Larson et   ┆ moflix.to/f ┆ \"Animation\" ┆ Kamiya\",    ┆             ┆ ge.tmdb.org │\n",
       "│ Hunter: An…  ┆ Laura sont  ┆ ilm/acti…   ┆ , … \"Pol…   ┆ \"Kazue      ┆             ┆ /t/p/w30…   │\n",
       "│              ┆ mis…        ┆             ┆             ┆ Ikura\"…     ┆             ┆             │\n",
       "│ Le Grand     ┆ Akino est   ┆ https://fil ┆ [\"Animation ┆ [\"Kawaida   ┆ 2023        ┆ /uploads/po │\n",
       "│ magasin      ┆ l'apprentie ┆ moflix.to/f ┆ \",          ┆ Natsumi\",   ┆             ┆ sts/covers/ │\n",
       "│              ┆ concierg…   ┆ ilm/anim…   ┆ \"Aventure\", ┆ \"Takeo Ots… ┆             ┆ b3501361…   │\n",
       "│              ┆             ┆             ┆ \"Fam…       ┆             ┆             ┆             │\n",
       "│ …            ┆ …           ┆ …           ┆ …           ┆ …           ┆ …           ┆ …           │\n",
       "│ Shehzada     ┆ Depuis son  ┆ https://fil ┆ [\"Action\",  ┆ [\"Kartik    ┆ 2023        ┆ https://ima │\n",
       "│              ┆ enfance,    ┆ moflix.to/f ┆ \"Comédie\",  ┆ Aaryan\",    ┆             ┆ ge.tmdb.org │\n",
       "│              ┆ Bantu est … ┆ ilm/acti…   ┆ … \"Roman…   ┆ \"Kriti      ┆             ┆ /t/p/w30…   │\n",
       "│              ┆             ┆             ┆             ┆ Sanon…      ┆             ┆             │\n",
       "│ Avec les     ┆ Dans ce doc ┆ https://fil ┆ [\"Documenta ┆ [\"Brad      ┆ 2024        ┆ https://ima │\n",
       "│ léopards     ┆ umentaire   ┆ moflix.to/f ┆ ire\"]       ┆ Bestelink\", ┆             ┆ ge.tmdb.org │\n",
       "│              ┆ sur la na…  ┆ ilm/docu…   ┆             ┆ \"Alex       ┆             ┆ /t/p/w30…   │\n",
       "│              ┆             ┆             ┆             ┆ Parki…      ┆             ┆             │\n",
       "│ Ammu         ┆ Ce qui      ┆ https://fil ┆ [\"Drame\"]   ┆ [\"Aishwarya ┆ 2022        ┆ https://ima │\n",
       "│              ┆ commence    ┆ moflix.to/f ┆             ┆ Lekshmi\",   ┆             ┆ ge.tmdb.org │\n",
       "│              ┆ comme un    ┆ ilm/dram…   ┆             ┆ \"Naveen …   ┆             ┆ /t/p/w30…   │\n",
       "│              ┆ maria…      ┆             ┆             ┆             ┆             ┆             │\n",
       "│ The Gifted   ┆ Une petite  ┆ https://fil ┆ [\"Fantastiq ┆ [\"Young-jon ┆ 2013        ┆ https://ima │\n",
       "│ Hands        ┆ fille est   ┆ moflix.to/f ┆ ue\",        ┆ g Lee\",     ┆             ┆ ge.tmdb.org │\n",
       "│              ┆ kidnappée…  ┆ ilm/fant…   ┆ \"Thriller\"] ┆ \"Jun-hee    ┆             ┆ /t/p/w30…   │\n",
       "│              ┆             ┆             ┆             ┆ Ha…         ┆             ┆             │\n",
       "│ The Last     ┆ La          ┆ https://fil ┆ [\"Policier\" ┆ [\"Jim       ┆ 2023        ┆ https://ima │\n",
       "│ Stop in Yuma ┆ clientèle   ┆ moflix.to/f ┆ ,           ┆ Cummings    ┆             ┆ ge.tmdb.org │\n",
       "│ County       ┆ d'un diner  ┆ ilm/poli…   ┆ \"Thriller\"] ┆ (II)\",      ┆             ┆ /t/p/w30…   │\n",
       "│              ┆ d'Ariz…     ┆             ┆             ┆ \"Jocelin…   ┆             ┆             │\n",
       "└──────────────┴─────────────┴─────────────┴─────────────┴─────────────┴─────────────┴─────────────┘"
      ]
     },
     "execution_count": 39,
     "metadata": {},
     "output_type": "execute_result"
    }
   ],
   "source": [
    "rows"
   ]
  },
  {
   "cell_type": "code",
   "execution_count": 40,
   "metadata": {},
   "outputs": [],
   "source": [
    "rows2 = pl.read_parquet(\"movies.parquet\", columns=(\n",
    "    \"title\",\n",
    "    \"description\",\n",
    "    \"url\",\n",
    "    \"genres\",\n",
    "    \"actors\",\n",
    "    \"release_date\",\n",
    "    \"image\"\n",
    ")).with_columns(pl.when(pl.col(pl.Utf8).str.len_bytes() ==0)\n",
    "    .then(None)\n",
    "    .otherwise(pl.col(pl.Utf8))\n",
    "    .name.keep()\n",
    ").with_columns(pl.col(\"release_date\").str.replace(\"20234\", \"2023\")).with_columns(pl.col(\"release_date\").str.to_integer().fill_null(2030))"
   ]
  },
  {
   "cell_type": "code",
   "execution_count": 28,
   "metadata": {},
   "outputs": [
    {
     "data": {
      "text/html": [
       "<div><style>\n",
       ".dataframe > thead > tr,\n",
       ".dataframe > tbody > tr {\n",
       "  text-align: right;\n",
       "  white-space: pre-wrap;\n",
       "}\n",
       "</style>\n",
       "<small>shape: (1, 7)</small><table border=\"1\" class=\"dataframe\"><thead><tr><th>title</th><th>description</th><th>url</th><th>genres</th><th>actors</th><th>release_date</th><th>image</th></tr><tr><td>str</td><td>str</td><td>str</td><td>list[str]</td><td>list[str]</td><td>i64</td><td>str</td></tr></thead><tbody><tr><td>&quot;Le Parc des merveilles&quot;</td><td>&quot;Le Parc des Merveilles raconte…</td><td>&quot;https://filmoflix.to/film/anim…</td><td>[&quot;Animation&quot;, &quot;Comédie&quot;, &quot;Famille&quot;]</td><td>[&quot;Marc Lavoine&quot;, &quot;Frederic Longbois&quot;, &quot;Odah&quot;]</td><td>2030</td><td>&quot;/uploads/posts/2019-03/1554056…</td></tr></tbody></table></div>"
      ],
      "text/plain": [
       "shape: (1, 7)\n",
       "┌──────────────┬─────────────┬─────────────┬─────────────┬─────────────┬─────────────┬─────────────┐\n",
       "│ title        ┆ description ┆ url         ┆ genres      ┆ actors      ┆ release_dat ┆ image       │\n",
       "│ ---          ┆ ---         ┆ ---         ┆ ---         ┆ ---         ┆ e           ┆ ---         │\n",
       "│ str          ┆ str         ┆ str         ┆ list[str]   ┆ list[str]   ┆ ---         ┆ str         │\n",
       "│              ┆             ┆             ┆             ┆             ┆ i64         ┆             │\n",
       "╞══════════════╪═════════════╪═════════════╪═════════════╪═════════════╪═════════════╪═════════════╡\n",
       "│ Le Parc des  ┆ Le Parc des ┆ https://fil ┆ [\"Animation ┆ [\"Marc      ┆ 2030        ┆ /uploads/po │\n",
       "│ merveilles   ┆ Merveilles  ┆ moflix.to/f ┆ \",          ┆ Lavoine\",   ┆             ┆ sts/2019-03 │\n",
       "│              ┆ raconte…    ┆ ilm/anim…   ┆ \"Comédie\",  ┆ \"Frederic   ┆             ┆ /1554056…   │\n",
       "│              ┆             ┆             ┆ \"Fami…      ┆ Lon…        ┆             ┆             │\n",
       "└──────────────┴─────────────┴─────────────┴─────────────┴─────────────┴─────────────┴─────────────┘"
      ]
     },
     "execution_count": 28,
     "metadata": {},
     "output_type": "execute_result"
    }
   ],
   "source": [
    "rows.filter(pl.col(\"release_date\").ge(2030))"
   ]
  }
 ],
 "metadata": {
  "kernelspec": {
   "display_name": "venv",
   "language": "python",
   "name": "python3"
  },
  "language_info": {
   "codemirror_mode": {
    "name": "ipython",
    "version": 3
   },
   "file_extension": ".py",
   "mimetype": "text/x-python",
   "name": "python",
   "nbconvert_exporter": "python",
   "pygments_lexer": "ipython3",
   "version": "3.12.3"
  }
 },
 "nbformat": 4,
 "nbformat_minor": 2
}
