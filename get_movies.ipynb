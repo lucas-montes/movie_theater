{
 "cells": [
  {
   "cell_type": "code",
   "execution_count": 10,
   "metadata": {},
   "outputs": [],
   "source": [
    "import requests\n",
    "from bs4 import BeautifulSoup, NavigableString, Tag\n",
    "import time\n",
    "import polars as pl\n",
    "from tqdm import tqdm\n",
    "headers = {\n",
    "    \"User-Agent\": \"Mozilla/5.0 (X11; Ubuntu; Linux x86_64; rv:125.0) Gecko/20100101 Firefox/125.0\"\n",
    "}\n"
   ]
  },
  {
   "cell_type": "code",
   "execution_count": 11,
   "metadata": {},
   "outputs": [],
   "source": [
    "from collections import namedtuple\n",
    "field_names=(\n",
    "    \"title\",\n",
    "    \"description\",\n",
    "    \"slug\",\n",
    "    \"url\",\n",
    "    \"rating\",\n",
    "    \"duration\",\n",
    "    \"genres\",\n",
    "    \"actors\",\n",
    "    \"directors\",\n",
    "    \"release_date\",\n",
    "    \"image\"\n",
    ")\n",
    "\n",
    "Movie = namedtuple(\"Movie\", field_names=field_names, defaults=[None for _  in field_names])"
   ]
  },
  {
   "cell_type": "code",
   "execution_count": 12,
   "metadata": {},
   "outputs": [],
   "source": [
    "def get_movie_card_info(movie_card:Tag | NavigableString)->Movie:\n",
    "    title = movie_card.find('h2', class_='th-title').text.strip()\n",
    "    genres = movie_card.find('div', class_='th-cat').text.strip().split(\", \")\n",
    "    image_url = movie_card.find('img')['data-src']\n",
    "    link = movie_card.find('a', class_='th-in js-tip')['href']\n",
    "    return Movie(title=title, genres=genres, image=image_url, url=link)"
   ]
  },
  {
   "cell_type": "code",
   "execution_count": 13,
   "metadata": {},
   "outputs": [],
   "source": [
    "def get_movie_detail_info(movie_url: str)-> Tag | NavigableString | None:\n",
    "    try:\n",
    "        resp = requests.get(headers=headers, url=movie_url)\n",
    "        resp.raise_for_status()\n",
    "        soup = BeautifulSoup(resp.content, \"html.parser\")\n",
    "        return soup.find('div', class_='fright')\n",
    "    except requests.exceptions.HTTPError as e:\n",
    "        print(e)\n",
    "        return None"
   ]
  },
  {
   "cell_type": "code",
   "execution_count": 14,
   "metadata": {},
   "outputs": [],
   "source": [
    "def update_movie_detail_info(movie: Movie, movie_info:Tag | NavigableString)->Movie:\n",
    "    return Movie(\n",
    "        title=movie.title, genres=movie.genres, image=movie.image, url=movie.url,\n",
    "        duration = movie_info.find_all('div', class_='short-info')[1].contents[-1].strip(),\n",
    "        release_date = movie_info.find_all('div', class_='short-info')[2].contents[-1].strip(),\n",
    "        directors = movie_info.find_all('div', class_='short-info')[3].contents[-1].strip(),\n",
    "        actors = movie_info.find_all('div', class_='short-info')[4].contents[-1].strip().split(\", \"),\n",
    "        rating = movie_info.find_all('div', class_='short-info')[5].contents[-1].strip(),\n",
    "        description = movie_info.find('div', class_='fdesc full-text clearfix').text.strip(),\n",
    "    )"
   ]
  },
  {
   "cell_type": "code",
   "execution_count": 15,
   "metadata": {},
   "outputs": [],
   "source": [
    "def get_movie(movie_card)->Movie:\n",
    "    movie = get_movie_card_info(movie_card)\n",
    "    if movie_info := get_movie_detail_info(movie.url):\n",
    "        movie = update_movie_detail_info(movie, movie_info)\n",
    "    return movie"
   ]
  },
  {
   "cell_type": "code",
   "execution_count": 16,
   "metadata": {},
   "outputs": [],
   "source": [
    "def first_test():\n",
    "    resp = requests.get(headers=headers, url=\"https://filmoflix.to/\")\n",
    "    soup = BeautifulSoup(resp.content, \"html.parser\")\n",
    "    movie_cards = iter(soup.find_all('div', class_=\"th-item\"))\n",
    "    movie_card = next(iter(movie_cards))\n",
    "    print(movie_card)\n",
    "    return get_movie(movie_card)"
   ]
  },
  {
   "cell_type": "code",
   "execution_count": 17,
   "metadata": {},
   "outputs": [
    {
     "name": "stdout",
     "output_type": "stream",
     "text": [
      "<div class=\"th-item\"><a class=\"th-in js-tip\" href=\"https://filmoflix.to/film/aventure/13069-los-reyes-del-mundo.html\" title=\"Los reyes del mundo\"><div class=\"th-img img-resp-vert\"><img alt=\"Los reyes del mundo\" data-src=\"https://image.tmdb.org/t/p/w300_and_h450_bestv2/3EnlbB6HDtHltj9Vzvf9gl1DqQ2.jpg\" src=\"/templates/filmoflix-cc/images/loading.gif\"/><div class=\"th-meta th-rating\"><span class=\"icon ion-md-star\"></span>3,6</div> <div class=\"th-meta th-qual\">HDLight </div> </div><div class=\"th-desc\"><h2 class=\"th-title nowrap\">Los reyes del mundo</h2><div class=\"th-cat nowrap\">Aventure, Drame</div></div></a></div>\n"
     ]
    },
    {
     "data": {
      "text/plain": [
       "Movie(title='Los reyes del mundo', description='Le jeune Rá vit avec ses amis Culebro, Sere, Winny et Nano dans les rues de Medellin. Leur espoir renaît lorsque le gouvernement promet à Rá le droit d’acquérir un terrain duquel sa famille avait été chassée, comme des milliers d’autres Colombiens, par les paramilitaires. La bande de copains se met...', slug=None, url='https://filmoflix.to/film/aventure/13069-los-reyes-del-mundo.html', rating='3,6 / 5', duration='1h 40min', genres=['Aventure', 'Drame'], actors=['Carlos Andrés Castañeda', 'Brahian Estiven Acevedo', 'Davison Florez'], directors='Laura Mora', release_date='2023', image='https://image.tmdb.org/t/p/w300_and_h450_bestv2/3EnlbB6HDtHltj9Vzvf9gl1DqQ2.jpg')"
      ]
     },
     "execution_count": 17,
     "metadata": {},
     "output_type": "execute_result"
    }
   ],
   "source": [
    "# first_test()"
   ]
  },
  {
   "cell_type": "code",
   "execution_count": 18,
   "metadata": {},
   "outputs": [],
   "source": [
    "def test_download():\n",
    "    resp = requests.get(headers=headers, url=\"https://filmoflix.to/\")\n",
    "    soup = BeautifulSoup(resp.content, \"html.parser\")\n",
    "    pl.LazyFrame((get_movie(mc) for mc in soup.find_all('div', class_=\"th-item\"))).sink_parquet(\"movies-first.parquet\")"
   ]
  },
  {
   "cell_type": "code",
   "execution_count": 19,
   "metadata": {},
   "outputs": [],
   "source": [
    "# test_download()"
   ]
  },
  {
   "cell_type": "code",
   "execution_count": 20,
   "metadata": {},
   "outputs": [],
   "source": [
    "def get_movies():\n",
    "    for i in tqdm(range(2, 605), total=len(range(2, 605))):\n",
    "        try:\n",
    "            resp = requests.get(headers=headers, url=f\"https://filmoflix.to/film/page/{i}\")\n",
    "            resp.raise_for_status()\n",
    "        except requests.exceptions.HTTPError:\n",
    "            continue\n",
    "        time.sleep(0.1)\n",
    "        soup = BeautifulSoup(resp.content, \"html.parser\")\n",
    "        movie_cards = soup.find_all(class_=\"th-item\")\n",
    "        for movie_card in movie_cards:\n",
    "            yield get_movie(movie_card)"
   ]
  },
  {
   "cell_type": "code",
   "execution_count": 21,
   "metadata": {},
   "outputs": [
    {
     "name": "stderr",
     "output_type": "stream",
     "text": [
      "  0%|          | 0/603 [00:00<?, ?it/s]"
     ]
    },
    {
     "name": "stderr",
     "output_type": "stream",
     "text": [
      "100%|██████████| 603/603 [48:37<00:00,  4.84s/it]\n"
     ]
    }
   ],
   "source": [
    "schema={\n",
    "    \"title\": pl.Utf8,\n",
    "    \"description\": pl.Utf8,\n",
    "    \"slug\": pl.Utf8,\n",
    "    \"url\": pl.Utf8,\n",
    "    \"rating\": pl.Utf8,\n",
    "    \"duration\": pl.Utf8,\n",
    "    \"genres\": pl.List(pl.Utf8),\n",
    "    \"actors\": pl.List(pl.Utf8),\n",
    "    \"directors\": pl.Utf8,\n",
    "    \"release_date\": pl.Utf8,\n",
    "    \"image\": pl.Utf8\n",
    "}\n",
    "(\n",
    "    pl.LazyFrame(\n",
    "        get_movies(),\n",
    "        schema=schema,\n",
    "    )\n",
    "    .sink_parquet(\"movies-full.parquet\")\n",
    ")"
   ]
  }
 ],
 "metadata": {
  "kernelspec": {
   "display_name": "data",
   "language": "python",
   "name": "python3"
  },
  "language_info": {
   "codemirror_mode": {
    "name": "ipython",
    "version": 3
   },
   "file_extension": ".py",
   "mimetype": "text/x-python",
   "name": "python",
   "nbconvert_exporter": "python",
   "pygments_lexer": "ipython3",
   "version": "3.12.3"
  }
 },
 "nbformat": 4,
 "nbformat_minor": 2
}
